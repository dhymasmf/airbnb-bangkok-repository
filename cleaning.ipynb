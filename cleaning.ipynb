{
 "cells": [
  {
   "cell_type": "markdown",
   "id": "6bbe72e7",
   "metadata": {},
   "source": [
    "# **Decoding What Drives Airbnb Success in Bangkok: A Multi-Factor Analysis of Listings, Location, and Behavior**"
   ]
  },
  {
   "cell_type": "markdown",
   "id": "39561d15",
   "metadata": {},
   "source": [
    "*Multi-Dimensional Analysis of Airbnb Listings in Bangkok*"
   ]
  },
  {
   "cell_type": "markdown",
   "id": "4bfdc308",
   "metadata": {},
   "source": [
    "## Objective:\n",
    "> Discovering factors that influence the performance of Airbnb listings in Bangkok, including price, location, ratings, and accommodation type, to provide strategic recommendations for hosts and potential investors."
   ]
  },
  {
   "cell_type": "markdown",
   "id": "d11e8512",
   "metadata": {},
   "source": [
    "## Analysis Questions:\n",
    "1. What factors have the biggest impact on listing prices?\n",
    "2. Which areas in Bangkok are the most profitable for hosts?\n",
    "3. Is there a correlation between reviews, availability, and listing performance?\n",
    "4. What types of properties are most in demand and most profitable?\n",
    "5. How do price and review trends change based on location and season?"
   ]
  },
  {
   "cell_type": "markdown",
   "id": "3fa50240",
   "metadata": {},
   "source": [
    "## **Data Cleaning & Preprocessing**"
   ]
  },
  {
   "cell_type": "markdown",
   "id": "7a75551e",
   "metadata": {},
   "source": [
    "### Import Dataset"
   ]
  },
  {
   "cell_type": "code",
   "execution_count": 3,
   "id": "95a9e6ff",
   "metadata": {},
   "outputs": [
    {
     "data": {
      "text/html": [
       "<div>\n",
       "<style scoped>\n",
       "    .dataframe tbody tr th:only-of-type {\n",
       "        vertical-align: middle;\n",
       "    }\n",
       "\n",
       "    .dataframe tbody tr th {\n",
       "        vertical-align: top;\n",
       "    }\n",
       "\n",
       "    .dataframe thead th {\n",
       "        text-align: right;\n",
       "    }\n",
       "</style>\n",
       "<table border=\"1\" class=\"dataframe\">\n",
       "  <thead>\n",
       "    <tr style=\"text-align: right;\">\n",
       "      <th></th>\n",
       "      <th>Unnamed: 0</th>\n",
       "      <th>id</th>\n",
       "      <th>name</th>\n",
       "      <th>host_id</th>\n",
       "      <th>host_name</th>\n",
       "      <th>neighbourhood</th>\n",
       "      <th>latitude</th>\n",
       "      <th>longitude</th>\n",
       "      <th>room_type</th>\n",
       "      <th>price</th>\n",
       "      <th>minimum_nights</th>\n",
       "      <th>number_of_reviews</th>\n",
       "      <th>last_review</th>\n",
       "      <th>reviews_per_month</th>\n",
       "      <th>calculated_host_listings_count</th>\n",
       "      <th>availability_365</th>\n",
       "      <th>number_of_reviews_ltm</th>\n",
       "    </tr>\n",
       "  </thead>\n",
       "  <tbody>\n",
       "    <tr>\n",
       "      <th>0</th>\n",
       "      <td>0</td>\n",
       "      <td>27934</td>\n",
       "      <td>Nice room with superb city view</td>\n",
       "      <td>120437</td>\n",
       "      <td>Nuttee</td>\n",
       "      <td>Ratchathewi</td>\n",
       "      <td>13.75983</td>\n",
       "      <td>100.54134</td>\n",
       "      <td>Entire home/apt</td>\n",
       "      <td>1905</td>\n",
       "      <td>3</td>\n",
       "      <td>65</td>\n",
       "      <td>2020-01-06</td>\n",
       "      <td>0.50</td>\n",
       "      <td>2</td>\n",
       "      <td>353</td>\n",
       "      <td>0</td>\n",
       "    </tr>\n",
       "    <tr>\n",
       "      <th>1</th>\n",
       "      <td>1</td>\n",
       "      <td>27979</td>\n",
       "      <td>Easy going landlord,easy place</td>\n",
       "      <td>120541</td>\n",
       "      <td>Emy</td>\n",
       "      <td>Bang Na</td>\n",
       "      <td>13.66818</td>\n",
       "      <td>100.61674</td>\n",
       "      <td>Private room</td>\n",
       "      <td>1316</td>\n",
       "      <td>1</td>\n",
       "      <td>0</td>\n",
       "      <td>NaN</td>\n",
       "      <td>NaN</td>\n",
       "      <td>2</td>\n",
       "      <td>358</td>\n",
       "      <td>0</td>\n",
       "    </tr>\n",
       "    <tr>\n",
       "      <th>2</th>\n",
       "      <td>2</td>\n",
       "      <td>28745</td>\n",
       "      <td>modern-style apartment in Bangkok</td>\n",
       "      <td>123784</td>\n",
       "      <td>Familyroom</td>\n",
       "      <td>Bang Kapi</td>\n",
       "      <td>13.75232</td>\n",
       "      <td>100.62402</td>\n",
       "      <td>Private room</td>\n",
       "      <td>800</td>\n",
       "      <td>60</td>\n",
       "      <td>0</td>\n",
       "      <td>NaN</td>\n",
       "      <td>NaN</td>\n",
       "      <td>1</td>\n",
       "      <td>365</td>\n",
       "      <td>0</td>\n",
       "    </tr>\n",
       "    <tr>\n",
       "      <th>3</th>\n",
       "      <td>3</td>\n",
       "      <td>35780</td>\n",
       "      <td>Spacious one bedroom at The Kris Condo Bldg. 3</td>\n",
       "      <td>153730</td>\n",
       "      <td>Sirilak</td>\n",
       "      <td>Din Daeng</td>\n",
       "      <td>13.78823</td>\n",
       "      <td>100.57256</td>\n",
       "      <td>Private room</td>\n",
       "      <td>1286</td>\n",
       "      <td>7</td>\n",
       "      <td>2</td>\n",
       "      <td>2022-04-01</td>\n",
       "      <td>0.03</td>\n",
       "      <td>1</td>\n",
       "      <td>323</td>\n",
       "      <td>1</td>\n",
       "    </tr>\n",
       "    <tr>\n",
       "      <th>4</th>\n",
       "      <td>4</td>\n",
       "      <td>941865</td>\n",
       "      <td>Suite Room 3 at MetroPoint</td>\n",
       "      <td>610315</td>\n",
       "      <td>Kasem</td>\n",
       "      <td>Bang Kapi</td>\n",
       "      <td>13.76872</td>\n",
       "      <td>100.63338</td>\n",
       "      <td>Private room</td>\n",
       "      <td>1905</td>\n",
       "      <td>1</td>\n",
       "      <td>0</td>\n",
       "      <td>NaN</td>\n",
       "      <td>NaN</td>\n",
       "      <td>3</td>\n",
       "      <td>365</td>\n",
       "      <td>0</td>\n",
       "    </tr>\n",
       "  </tbody>\n",
       "</table>\n",
       "</div>"
      ],
      "text/plain": [
       "   Unnamed: 0      id                                            name  \\\n",
       "0           0   27934                 Nice room with superb city view   \n",
       "1           1   27979                  Easy going landlord,easy place   \n",
       "2           2   28745               modern-style apartment in Bangkok   \n",
       "3           3   35780  Spacious one bedroom at The Kris Condo Bldg. 3   \n",
       "4           4  941865                      Suite Room 3 at MetroPoint   \n",
       "\n",
       "   host_id   host_name neighbourhood  latitude  longitude        room_type  \\\n",
       "0   120437      Nuttee   Ratchathewi  13.75983  100.54134  Entire home/apt   \n",
       "1   120541         Emy       Bang Na  13.66818  100.61674     Private room   \n",
       "2   123784  Familyroom     Bang Kapi  13.75232  100.62402     Private room   \n",
       "3   153730     Sirilak     Din Daeng  13.78823  100.57256     Private room   \n",
       "4   610315       Kasem     Bang Kapi  13.76872  100.63338     Private room   \n",
       "\n",
       "   price  minimum_nights  number_of_reviews last_review  reviews_per_month  \\\n",
       "0   1905               3                 65  2020-01-06               0.50   \n",
       "1   1316               1                  0         NaN                NaN   \n",
       "2    800              60                  0         NaN                NaN   \n",
       "3   1286               7                  2  2022-04-01               0.03   \n",
       "4   1905               1                  0         NaN                NaN   \n",
       "\n",
       "   calculated_host_listings_count  availability_365  number_of_reviews_ltm  \n",
       "0                               2               353                      0  \n",
       "1                               2               358                      0  \n",
       "2                               1               365                      0  \n",
       "3                               1               323                      1  \n",
       "4                               3               365                      0  "
      ]
     },
     "execution_count": 3,
     "metadata": {},
     "output_type": "execute_result"
    }
   ],
   "source": [
    "import pandas as pd\n",
    "\n",
    "df = pd.read_csv('Airbnb Listings Bangkok.csv')\n",
    "df.head()"
   ]
  },
  {
   "cell_type": "markdown",
   "id": "94d0a1ea",
   "metadata": {},
   "source": [
    "### Initial Check – Structure & Missing Values"
   ]
  },
  {
   "cell_type": "code",
   "execution_count": 5,
   "id": "1f0de612",
   "metadata": {},
   "outputs": [
    {
     "name": "stdout",
     "output_type": "stream",
     "text": [
      "<class 'pandas.core.frame.DataFrame'>\n",
      "RangeIndex: 15854 entries, 0 to 15853\n",
      "Data columns (total 17 columns):\n",
      " #   Column                          Non-Null Count  Dtype  \n",
      "---  ------                          --------------  -----  \n",
      " 0   Unnamed: 0                      15854 non-null  int64  \n",
      " 1   id                              15854 non-null  int64  \n",
      " 2   name                            15846 non-null  object \n",
      " 3   host_id                         15854 non-null  int64  \n",
      " 4   host_name                       15853 non-null  object \n",
      " 5   neighbourhood                   15854 non-null  object \n",
      " 6   latitude                        15854 non-null  float64\n",
      " 7   longitude                       15854 non-null  float64\n",
      " 8   room_type                       15854 non-null  object \n",
      " 9   price                           15854 non-null  int64  \n",
      " 10  minimum_nights                  15854 non-null  int64  \n",
      " 11  number_of_reviews               15854 non-null  int64  \n",
      " 12  last_review                     10064 non-null  object \n",
      " 13  reviews_per_month               10064 non-null  float64\n",
      " 14  calculated_host_listings_count  15854 non-null  int64  \n",
      " 15  availability_365                15854 non-null  int64  \n",
      " 16  number_of_reviews_ltm           15854 non-null  int64  \n",
      "dtypes: float64(3), int64(9), object(5)\n",
      "memory usage: 2.1+ MB\n"
     ]
    },
    {
     "data": {
      "text/plain": [
       "(None,\n",
       "           Unnamed: 0            id  \\\n",
       " count   15854.000000  1.585400e+04   \n",
       " unique           NaN           NaN   \n",
       " top              NaN           NaN   \n",
       " freq             NaN           NaN   \n",
       " mean     7926.500000  1.579397e+17   \n",
       " std      4576.799919  2.946015e+17   \n",
       " min         0.000000  2.793400e+04   \n",
       " 25%      3963.250000  2.104509e+07   \n",
       " 50%      7926.500000  3.503734e+07   \n",
       " 75%     11889.750000  5.256154e+07   \n",
       " max     15853.000000  7.908162e+17   \n",
       " \n",
       "                                                     name       host_id  \\\n",
       " count                                              15846  1.585400e+04   \n",
       " unique                                             14794           NaN   \n",
       " top     New!  La Chada Night Market studio 2PPL near MRT           NaN   \n",
       " freq                                                  45           NaN   \n",
       " mean                                                 NaN  1.541058e+08   \n",
       " std                                                  NaN  1.318726e+08   \n",
       " min                                                  NaN  5.892000e+04   \n",
       " 25%                                                  NaN  3.974431e+07   \n",
       " 50%                                                  NaN  1.224556e+08   \n",
       " 75%                                                  NaN  2.390547e+08   \n",
       " max                                                  NaN  4.926659e+08   \n",
       " \n",
       "        host_name neighbourhood      latitude     longitude        room_type  \\\n",
       " count      15853         15854  15854.000000  15854.000000            15854   \n",
       " unique      5312            50           NaN           NaN                4   \n",
       " top        Curry       Vadhana           NaN           NaN  Entire home/apt   \n",
       " freq         228          2153           NaN           NaN             8912   \n",
       " mean         NaN           NaN     13.745144    100.559903              NaN   \n",
       " std          NaN           NaN      0.043040      0.050911              NaN   \n",
       " min          NaN           NaN     13.527300    100.329550              NaN   \n",
       " 25%          NaN           NaN     13.720090    100.529690              NaN   \n",
       " 50%          NaN           NaN     13.738490    100.561415              NaN   \n",
       " 75%          NaN           NaN     13.759497    100.585150              NaN   \n",
       " max          NaN           NaN     13.953540    100.923440              NaN   \n",
       " \n",
       "                price  minimum_nights  number_of_reviews last_review  \\\n",
       " count   1.585400e+04    15854.000000       15854.000000       10064   \n",
       " unique           NaN             NaN                NaN        1669   \n",
       " top              NaN             NaN                NaN  2022-12-11   \n",
       " freq             NaN             NaN                NaN         189   \n",
       " mean    3.217704e+03       15.292355          16.654157         NaN   \n",
       " std     2.497212e+04       50.815020          40.613331         NaN   \n",
       " min     0.000000e+00        1.000000           0.000000         NaN   \n",
       " 25%     9.000000e+02        1.000000           0.000000         NaN   \n",
       " 50%     1.429000e+03        1.000000           2.000000         NaN   \n",
       " 75%     2.429000e+03        7.000000          13.000000         NaN   \n",
       " max     1.100000e+06     1125.000000        1224.000000         NaN   \n",
       " \n",
       "         reviews_per_month  calculated_host_listings_count  availability_365  \\\n",
       " count        10064.000000                    15854.000000      15854.000000   \n",
       " unique                NaN                             NaN               NaN   \n",
       " top                   NaN                             NaN               NaN   \n",
       " freq                  NaN                             NaN               NaN   \n",
       " mean             0.813145                       13.889618        244.378643   \n",
       " std              1.090196                       30.269848        125.843224   \n",
       " min              0.010000                        1.000000          0.000000   \n",
       " 25%              0.120000                        1.000000        138.000000   \n",
       " 50%              0.435000                        4.000000        309.000000   \n",
       " 75%              1.060000                       13.000000        360.000000   \n",
       " max             19.130000                      228.000000        365.000000   \n",
       " \n",
       "         number_of_reviews_ltm  \n",
       " count            15854.000000  \n",
       " unique                    NaN  \n",
       " top                       NaN  \n",
       " freq                      NaN  \n",
       " mean                 3.481519  \n",
       " std                  8.916937  \n",
       " min                  0.000000  \n",
       " 25%                  0.000000  \n",
       " 50%                  0.000000  \n",
       " 75%                  3.000000  \n",
       " max                325.000000  ,\n",
       " reviews_per_month                 5790\n",
       " last_review                       5790\n",
       " name                                 8\n",
       " host_name                            1\n",
       " Unnamed: 0                           0\n",
       " neighbourhood                        0\n",
       " latitude                             0\n",
       " id                                   0\n",
       " host_id                              0\n",
       " room_type                            0\n",
       " longitude                            0\n",
       " minimum_nights                       0\n",
       " price                                0\n",
       " number_of_reviews                    0\n",
       " calculated_host_listings_count       0\n",
       " availability_365                     0\n",
       " number_of_reviews_ltm                0\n",
       " dtype: int64)"
      ]
     },
     "execution_count": 5,
     "metadata": {},
     "output_type": "execute_result"
    }
   ],
   "source": [
    "info = df.info()\n",
    "description = df.describe(include='all')\n",
    "missing_values = df.isnull().sum().sort_values(ascending=False)\n",
    "\n",
    "info, description, missing_values"
   ]
  },
  {
   "cell_type": "code",
   "execution_count": 9,
   "id": "16f2324b",
   "metadata": {},
   "outputs": [
    {
     "data": {
      "text/plain": [
       "id                                0\n",
       "name                              0\n",
       "host_id                           0\n",
       "host_name                         0\n",
       "neighbourhood                     0\n",
       "latitude                          0\n",
       "longitude                         0\n",
       "room_type                         0\n",
       "price                             0\n",
       "minimum_nights                    0\n",
       "number_of_reviews                 0\n",
       "last_review                       0\n",
       "reviews_per_month                 0\n",
       "calculated_host_listings_count    0\n",
       "availability_365                  0\n",
       "number_of_reviews_ltm             0\n",
       "dtype: int64"
      ]
     },
     "execution_count": 9,
     "metadata": {},
     "output_type": "execute_result"
    }
   ],
   "source": [
    "# Drop rows where 'name' or 'host_name' is missing\n",
    "df = df.dropna(subset=['name', 'host_name'])\n",
    "\n",
    "# Fill 'last_review' and 'reviews_per_month' with \"No Review\"\n",
    "df['last_review'] = df['last_review'].fillna('No Review')\n",
    "df['reviews_per_month'] = df['reviews_per_month'].fillna('No Review')\n",
    "\n",
    "# Remove unnecessary column if it exists\n",
    "if 'Unnamed: 0' in df.columns:\n",
    "    df = df.drop(columns=['Unnamed: 0'])\n",
    "\n",
    "# Check remaining missing values\n",
    "df.isnull().sum()\n"
   ]
  },
  {
   "cell_type": "markdown",
   "id": "00be183b",
   "metadata": {},
   "source": [
    "### Check and Remove Duplicates"
   ]
  },
  {
   "cell_type": "code",
   "execution_count": 12,
   "id": "e933ebe1",
   "metadata": {},
   "outputs": [
    {
     "name": "stdout",
     "output_type": "stream",
     "text": [
      "Duplicate rows: 0\n",
      "Data shape after removing duplicates: (15845, 16)\n"
     ]
    }
   ],
   "source": [
    "# Check how many duplicate rows exist\n",
    "print(\"Duplicate rows:\", df.duplicated().sum())\n",
    "\n",
    "# Remove duplicates\n",
    "df = df.drop_duplicates()\n",
    "\n",
    "# Confirm the new shape of the data\n",
    "print(\"Data shape after removing duplicates:\", df.shape)\n"
   ]
  },
  {
   "cell_type": "markdown",
   "id": "48d208ae",
   "metadata": {},
   "source": [
    "### Outlier Detection & Treatment"
   ]
  },
  {
   "cell_type": "code",
   "execution_count": 15,
   "id": "9b4ea9df",
   "metadata": {},
   "outputs": [
    {
     "name": "stdout",
     "output_type": "stream",
     "text": [
      "count    15845.000000\n",
      "mean         0.516464\n",
      "std          0.952948\n",
      "min          0.000000\n",
      "25%          0.000000\n",
      "50%          0.090000\n",
      "75%          0.670000\n",
      "max         19.130000\n",
      "Name: reviews_per_month, dtype: float64\n"
     ]
    }
   ],
   "source": [
    "df['reviews_per_month'] = df['reviews_per_month'].replace('No Review', 0)\n",
    "df['reviews_per_month'] = df['reviews_per_month'].astype(float)\n",
    "\n",
    "print(df['reviews_per_month'].describe())\n"
   ]
  },
  {
   "cell_type": "code",
   "execution_count": 16,
   "id": "530dc7bc",
   "metadata": {},
   "outputs": [
    {
     "name": "stdout",
     "output_type": "stream",
     "text": [
      "{'price': 1402, 'minimum_nights': 3168, 'availability_365': 0, 'reviews_per_month': 1471}\n"
     ]
    }
   ],
   "source": [
    "# Function to detect outliers using IQR\n",
    "def detect_outliers_iqr(series):\n",
    "    Q1 = series.quantile(0.25)\n",
    "    Q3 = series.quantile(0.75)\n",
    "    IQR = Q3 - Q1\n",
    "    lower_bound = Q1 - 1.5 * IQR\n",
    "    upper_bound = Q3 + 1.5 * IQR\n",
    "    return series[(series < lower_bound) | (series > upper_bound)]\n",
    "\n",
    "# Columns to check\n",
    "columns_to_check = ['price', 'minimum_nights', 'availability_365', 'reviews_per_month']\n",
    "\n",
    "# Detect outliers and count them\n",
    "outlier_counts = {}\n",
    "for col in columns_to_check:\n",
    "    outliers = detect_outliers_iqr(df[col])\n",
    "    outlier_counts[col] = len(outliers)\n",
    "\n",
    "print(outlier_counts)\n"
   ]
  },
  {
   "cell_type": "markdown",
   "id": "e76eb730",
   "metadata": {},
   "source": [
    "### Cleaning Strategy"
   ]
  },
  {
   "cell_type": "markdown",
   "id": "69078b58",
   "metadata": {},
   "source": [
    "1. **`availability_365`** is clean — no action needed. \n",
    "2. **Drop rows** with outliers in `price` and `minimum_nights` — these usually indicate data entry errors (e.g. someone listing 9999 nights, or 0 Baht per night).\n",
    "3. For `reviews_per_month`, **keep the outliers**, since high review rates may actually be meaningful (popular listings).\n"
   ]
  },
  {
   "cell_type": "code",
   "execution_count": 17,
   "id": "786b28f8",
   "metadata": {},
   "outputs": [
    {
     "name": "stdout",
     "output_type": "stream",
     "text": [
      "(11435, 16)\n"
     ]
    }
   ],
   "source": [
    "# Function to remove outliers using IQR\n",
    "def remove_outliers_iqr(df, column):\n",
    "    Q1 = df[column].quantile(0.25)\n",
    "    Q3 = df[column].quantile(0.75)\n",
    "    IQR = Q3 - Q1\n",
    "    lower_bound = Q1 - 1.5 * IQR\n",
    "    upper_bound = Q3 + 1.5 * IQR\n",
    "    return df[(df[column] >= lower_bound) & (df[column] <= upper_bound)]\n",
    "\n",
    "# Apply to 'price' and 'minimum_nights'\n",
    "df = remove_outliers_iqr(df, 'price')\n",
    "df = remove_outliers_iqr(df, 'minimum_nights')\n",
    "\n",
    "# Check final shape\n",
    "print(df.shape)\n"
   ]
  },
  {
   "cell_type": "markdown",
   "id": "b670c6d7",
   "metadata": {},
   "source": [
    "## Statistical Analysis"
   ]
  },
  {
   "cell_type": "markdown",
   "id": "4d533cb2",
   "metadata": {},
   "source": [
    "### Descriptive Statistics"
   ]
  },
  {
   "cell_type": "code",
   "execution_count": 18,
   "id": "b53a4c49",
   "metadata": {},
   "outputs": [
    {
     "name": "stdout",
     "output_type": "stream",
     "text": [
      "                                  count          mean           std  \\\n",
      "id                              11435.0  1.602158e+17  2.965018e+17   \n",
      "host_id                         11435.0  1.569818e+08  1.317748e+08   \n",
      "latitude                        11435.0  1.374697e+01  4.461209e-02   \n",
      "longitude                       11435.0  1.005594e+02  5.358852e-02   \n",
      "price                           11435.0  1.617675e+03  9.718612e+02   \n",
      "minimum_nights                  11435.0  2.337910e+00  2.892275e+00   \n",
      "number_of_reviews               11435.0  1.823279e+01  4.380749e+01   \n",
      "reviews_per_month               11435.0  5.827984e-01  1.038532e+00   \n",
      "calculated_host_listings_count  11435.0  1.515689e+01  3.376878e+01   \n",
      "availability_365                11435.0  2.455405e+02  1.260122e+02   \n",
      "number_of_reviews_ltm           11435.0  4.071447e+00  9.882583e+00   \n",
      "\n",
      "                                        min           25%           50%  \\\n",
      "id                              27934.00000  2.118637e+07  3.493366e+07   \n",
      "host_id                         58920.00000  4.311320e+07  1.246871e+08   \n",
      "latitude                           13.52730  1.372050e+01  1.373958e+01   \n",
      "longitude                         100.32955  1.005276e+02  1.005598e+02   \n",
      "price                               0.00000  8.900000e+02  1.375000e+03   \n",
      "minimum_nights                      1.00000  1.000000e+00  1.000000e+00   \n",
      "number_of_reviews                   0.00000  0.000000e+00  2.000000e+00   \n",
      "reviews_per_month                   0.00000  0.000000e+00  1.100000e-01   \n",
      "calculated_host_listings_count      1.00000  1.000000e+00  4.000000e+00   \n",
      "availability_365                    0.00000  1.400000e+02  3.150000e+02   \n",
      "number_of_reviews_ltm               0.00000  0.000000e+00  0.000000e+00   \n",
      "\n",
      "                                         75%           max  \n",
      "id                              5.226138e+07  7.907510e+17  \n",
      "host_id                         2.406037e+08  4.926659e+08  \n",
      "latitude                        1.376180e+01  1.395354e+01  \n",
      "longitude                       1.005850e+02  1.009234e+02  \n",
      "price                           2.086000e+03  4.720000e+03  \n",
      "minimum_nights                  2.000000e+00  1.600000e+01  \n",
      "number_of_reviews               1.500000e+01  1.224000e+03  \n",
      "reviews_per_month               8.100000e-01  1.913000e+01  \n",
      "calculated_host_listings_count  1.300000e+01  2.280000e+02  \n",
      "availability_365                3.600000e+02  3.650000e+02  \n",
      "number_of_reviews_ltm           4.000000e+00  3.250000e+02  \n"
     ]
    }
   ],
   "source": [
    "# Descriptive statistics for numeric columns\n",
    "desc_stats = df.describe().T  # Transpose to make it easier to read\n",
    "print(desc_stats)\n"
   ]
  },
  {
   "cell_type": "markdown",
   "id": "265f2d2d",
   "metadata": {},
   "source": [
    "| Feature | Insight |\n",
    "|--------|--------|\n",
    "| **Price** | Avg = ฿1,618 | Max = ฿4,720 | Min = ฿0 (might be worth flagging later) |\n",
    "| **Minimum Nights** | Median = 1 night (very short-term market) |\n",
    "| **Number of Reviews** | Median = 2 | But Max = 1,224 (some listings are poppin’) |\n",
    "| **Reviews per Month** | Avg = 0.58 | Skewed right (some hosts get frequent reviews, most don’t) |\n",
    "| **Availability (per year)** | Avg = 245 days | Max = 365, so many are year-round listings |\n",
    "| **Listings per Host** | Avg = 15.1 | Some hosts are clearly power users (Max = 228 listings) |\n"
   ]
  },
  {
   "cell_type": "markdown",
   "id": "6daa0e75",
   "metadata": {},
   "source": [
    "### Correlation Analysis"
   ]
  },
  {
   "cell_type": "code",
   "execution_count": 19,
   "id": "8850488c",
   "metadata": {},
   "outputs": [
    {
     "data": {
      "image/png": "[encoded data removed]",
      "text/plain": [
       "<Figure size 1000x800 with 2 Axes>"
      ]
     },
     "metadata": {},
     "output_type": "display_data"
    }
   ],
   "source": [
    "import seaborn as sns\n",
    "import matplotlib.pyplot as plt\n",
    "\n",
    "# Calculate correlation matrix for numeric columns\n",
    "corr_matrix = df.corr(numeric_only=True)\n",
    "\n",
    "# Plot the heatmap\n",
    "plt.figure(figsize=(10, 8))\n",
    "sns.heatmap(corr_matrix, annot=True, cmap='coolwarm', fmt=\".2f\", linewidths=0.5)\n",
    "plt.title(\"Correlation Matrix of Numerical Features\")\n",
    "plt.xticks(rotation=45)\n",
    "plt.yticks(rotation=0)\n",
    "plt.tight_layout()\n",
    "plt.show()\n"
   ]
  },
  {
   "cell_type": "markdown",
   "id": "17e1916f",
   "metadata": {},
   "source": [
    "#### Correlation Analysis\n",
    "\n",
    "To understand the linear relationships between numerical variables, we computed the **Pearson correlation matrix** and visualized it with a heatmap.\n",
    "\n",
    "##### Key Observations:\n",
    "\n",
    "1. **Review Metrics Are Strongly Interrelated**\n",
    "   - `reviews_per_month` shows **strong positive correlation** with:\n",
    "     - `number_of_reviews_ltm` (**r = 0.64**)\n",
    "     - `number_of_reviews` (**r = 0.56**)\n",
    "   - This indicates that listings with consistent monthly engagement tend to accumulate both total and recent reviews.\n",
    "   - These features can be interpreted as **signals of listing activity/popularity**, and may serve as strong predictors in future modeling.\n",
    "\n",
    "2. **Low Correlation Between Price and Other Variables**\n",
    "   - Surprisingly, `price` shows **weak correlation** across the board:\n",
    "     - With `number_of_reviews`: **r = 0.01**\n",
    "     - With `reviews_per_month`: **r = 0.08**\n",
    "     - With `availability_365`: **r = -0.02**\n",
    "   - This suggests that pricing strategies may not directly affect engagement levels or visibility.\n",
    "   - It may also indicate the presence of **non-linear or multivariate relationships**, warranting more complex exploration later in the analysis.\n",
    "\n",
    "3. **Minimum Nights Requirement Has Minimal Impact**\n",
    "   - `minimum_nights` exhibits **very low correlation** with all other variables.\n",
    "   - This feature might have limited predictive power in modeling, or may affect user decision-making in **non-linear** ways.\n",
    "\n",
    "##### Takeaways:\n",
    "\n",
    "- **Focus for Predictive Modeling**: The review metrics (`number_of_reviews`, `reviews_per_month`, `number_of_reviews_ltm`) appear to be **interconnected and meaningful**, potentially representing customer trust or listing visibility.\n",
    "- **Price, while essential,** may require deeper multivariate or cluster analysis to uncover its influence on performance.\n",
    "- **No immediate signs of multicollinearity**, but further checks (e.g., Variance Inflation Factor) could be applied if modeling performance is impacted.\n",
    "\n",
    "##### Visualization:\n",
    "The heatmap above clearly shows these relationships. Warmer colors indicate stronger positive correlations.\n"
   ]
  },
  {
   "cell_type": "markdown",
   "id": "1b6cdffe",
   "metadata": {},
   "source": [
    "### Hypothesis Testing"
   ]
  },
  {
   "cell_type": "markdown",
   "id": "08d97069",
   "metadata": {},
   "source": [
    "> **Hypothesis**: _Listings with more reviews per month tend to have higher availability throughout the year._\n",
    "\n",
    "Why?  \n",
    "Because hosts who rent actively and frequently (high availability) are expected to receive more consistent reviews."
   ]
  },
  {
   "cell_type": "markdown",
   "id": "35a2ed60",
   "metadata": {},
   "source": [
    "#### Formulate the Hypotheses"
   ]
  },
  {
   "cell_type": "markdown",
   "id": "0a76c0e5",
   "metadata": {},
   "source": [
    "- **Null Hypothesis (H₀)**: There is **no significant difference** in reviews_per_month between listings with low vs. high availability.\n",
    "- **Alternative Hypothesis (H₁)**: Listings with **high availability** have **significantly more** reviews_per_month.\n",
    "\n",
    "We’ll split the data into two groups:\n",
    "\n",
    "- **Low availability**: `availability_365` < 180\n",
    "- **High availability**: `availability_365` ≥ 180"
   ]
  },
  {
   "cell_type": "markdown",
   "id": "41b6a4b4",
   "metadata": {},
   "source": [
    "#### Perform the T-Test"
   ]
  },
  {
   "cell_type": "markdown",
   "id": "26a0cba0",
   "metadata": {},
   "source": [
    "We’ll use **independent two-sample t-test** (assuming unequal variances).\n"
   ]
  },
  {
   "cell_type": "code",
   "execution_count": 23,
   "id": "edce572a",
   "metadata": {},
   "outputs": [
    {
     "name": "stdout",
     "output_type": "stream",
     "text": [
      "T-statistic: 5.272632308409386\n",
      "P-value: 1.3758026790475065e-07\n"
     ]
    }
   ],
   "source": [
    "from scipy.stats import ttest_ind\n",
    "\n",
    "# Split the data\n",
    "low_avail = df[df['availability_365'] < 180]['reviews_per_month']\n",
    "high_avail = df[df['availability_365'] >= 180]['reviews_per_month']\n",
    "\n",
    "# Perform Welch’s t-test\n",
    "t_stat, p_val = ttest_ind(low_avail, high_avail, equal_var=False)\n",
    "\n",
    "print(f\"T-statistic: {t_stat}\")\n",
    "print(f\"P-value: {p_val}\")\n"
   ]
  },
  {
   "cell_type": "markdown",
   "id": "88afa1d7",
   "metadata": {},
   "source": [
    "Hypothesis Test: _Does Availability Affect Review Frequency?_\n",
    "\n",
    "We tested whether listings with higher annual availability tend to receive more reviews per month.\n",
    "\n",
    "##### Hypotheses:\n",
    "- **Null Hypothesis (H₀):** There is no significant difference in `reviews_per_month` between listings with low (<180 days) and high (≥180 days) availability.\n",
    "- **Alternative Hypothesis (H₁):** Listings with high availability have significantly higher `reviews_per_month`.\n",
    "\n",
    "##### Method:\n",
    "We conducted an **independent two-sample t-test** using Welch’s correction for unequal variances.\n",
    "\n",
    "##### Result:\n",
    "- **T-statistic:** 5.27  \n",
    "- **P-value:** 1.38e-07\n",
    "\n",
    "##### Conclusion:\n",
    "We **reject the null hypothesis**. The test provides strong evidence that listings with **higher availability** receive **more frequent reviews per month**, suggesting more active and consistent booking behavior."
   ]
  },
  {
   "cell_type": "markdown",
   "id": "5bfec062",
   "metadata": {},
   "source": [
    "## Feature Engineering"
   ]
  },
  {
   "cell_type": "markdown",
   "id": "9a8e87ee",
   "metadata": {},
   "source": [
    "### Create New Features"
   ]
  },
  {
   "cell_type": "code",
   "execution_count": null,
   "id": "37e8807a",
   "metadata": {},
   "outputs": [
    {
     "data": {
      "text/html": [
       "<div>\n",
       "<style scoped>\n",
       "    .dataframe tbody tr th:only-of-type {\n",
       "        vertical-align: middle;\n",
       "    }\n",
       "\n",
       "    .dataframe tbody tr th {\n",
       "        vertical-align: top;\n",
       "    }\n",
       "\n",
       "    .dataframe thead th {\n",
       "        text-align: right;\n",
       "    }\n",
       "</style>\n",
       "<table border=\"1\" class=\"dataframe\">\n",
       "  <thead>\n",
       "    <tr style=\"text-align: right;\">\n",
       "      <th></th>\n",
       "      <th>price_per_review</th>\n",
       "      <th>reviews_density</th>\n",
       "      <th>is_superhost</th>\n",
       "      <th>is_long_term</th>\n",
       "    </tr>\n",
       "  </thead>\n",
       "  <tbody>\n",
       "    <tr>\n",
       "      <th>count</th>\n",
       "      <td>11435.000000</td>\n",
       "      <td>11435.000000</td>\n",
       "      <td>11435</td>\n",
       "      <td>11435</td>\n",
       "    </tr>\n",
       "    <tr>\n",
       "      <th>unique</th>\n",
       "      <td>NaN</td>\n",
       "      <td>NaN</td>\n",
       "      <td>2</td>\n",
       "      <td>1</td>\n",
       "    </tr>\n",
       "    <tr>\n",
       "      <th>top</th>\n",
       "      <td>NaN</td>\n",
       "      <td>NaN</td>\n",
       "      <td>False</td>\n",
       "      <td>False</td>\n",
       "    </tr>\n",
       "    <tr>\n",
       "      <th>freq</th>\n",
       "      <td>NaN</td>\n",
       "      <td>NaN</td>\n",
       "      <td>8126</td>\n",
       "      <td>11435</td>\n",
       "    </tr>\n",
       "    <tr>\n",
       "      <th>mean</th>\n",
       "      <td>761.233170</td>\n",
       "      <td>0.020953</td>\n",
       "      <td>NaN</td>\n",
       "      <td>NaN</td>\n",
       "    </tr>\n",
       "    <tr>\n",
       "      <th>std</th>\n",
       "      <td>943.121668</td>\n",
       "      <td>0.133739</td>\n",
       "      <td>NaN</td>\n",
       "      <td>NaN</td>\n",
       "    </tr>\n",
       "    <tr>\n",
       "      <th>min</th>\n",
       "      <td>0.000000</td>\n",
       "      <td>0.000000</td>\n",
       "      <td>NaN</td>\n",
       "      <td>NaN</td>\n",
       "    </tr>\n",
       "    <tr>\n",
       "      <th>25%</th>\n",
       "      <td>84.103943</td>\n",
       "      <td>0.000000</td>\n",
       "      <td>NaN</td>\n",
       "      <td>NaN</td>\n",
       "    </tr>\n",
       "    <tr>\n",
       "      <th>50%</th>\n",
       "      <td>363.636364</td>\n",
       "      <td>0.000554</td>\n",
       "      <td>NaN</td>\n",
       "      <td>NaN</td>\n",
       "    </tr>\n",
       "    <tr>\n",
       "      <th>75%</th>\n",
       "      <td>1100.000000</td>\n",
       "      <td>0.004338</td>\n",
       "      <td>NaN</td>\n",
       "      <td>NaN</td>\n",
       "    </tr>\n",
       "    <tr>\n",
       "      <th>max</th>\n",
       "      <td>4700.000000</td>\n",
       "      <td>4.650000</td>\n",
       "      <td>NaN</td>\n",
       "      <td>NaN</td>\n",
       "    </tr>\n",
       "  </tbody>\n",
       "</table>\n",
       "</div>"
      ],
      "text/plain": [
       "        price_per_review  reviews_density is_superhost is_long_term\n",
       "count       11435.000000     11435.000000        11435        11435\n",
       "unique               NaN              NaN            2            1\n",
       "top                  NaN              NaN        False        False\n",
       "freq                 NaN              NaN         8126        11435\n",
       "mean          761.233170         0.020953          NaN          NaN\n",
       "std           943.121668         0.133739          NaN          NaN\n",
       "min             0.000000         0.000000          NaN          NaN\n",
       "25%            84.103943         0.000000          NaN          NaN\n",
       "50%           363.636364         0.000554          NaN          NaN\n",
       "75%          1100.000000         0.004338          NaN          NaN\n",
       "max          4700.000000         4.650000          NaN          NaN"
      ]
     },
     "execution_count": 24,
     "metadata": {},
     "output_type": "execute_result"
    }
   ],
   "source": [
    "# Load cleaned DataFrame\n",
    "df_cleaned = df.copy()\n",
    "\n",
    "# Create new features\n",
    "\n",
    "# 1. price_per_review: price / (number_of_reviews + 1) to avoid division by zero\n",
    "df_cleaned['price_per_review'] = df_cleaned['price'] / (df_cleaned['number_of_reviews'] + 1)\n",
    "\n",
    "# 2. reviews_density: reviews_per_month / availability_365\n",
    "df_cleaned['reviews_density'] = df_cleaned['reviews_per_month'] / (df_cleaned['availability_365'] + 1)  # add 1 to avoid div by zero\n",
    "\n",
    "# 3. is_superhost: calculated_host_listings_count > threshold (e.g., 10)\n",
    "df_cleaned['is_superhost'] = df_cleaned['calculated_host_listings_count'] > 10\n",
    "\n",
    "# 4. is_long_term: minimum_nights >= 30\n",
    "df_cleaned['is_long_term'] = df_cleaned['minimum_nights'] >= 30\n",
    "\n",
    "# Show new features' summary\n",
    "df_cleaned[['price_per_review', 'reviews_density', 'is_superhost', 'is_long_term']].describe(include='all')\n"
   ]
  },
  {
   "cell_type": "code",
   "execution_count": null,
   "id": "22bf1499",
   "metadata": {},
   "outputs": [
    {
     "data": {
      "text/html": [
       "<div>\n",
       "<style scoped>\n",
       "    .dataframe tbody tr th:only-of-type {\n",
       "        vertical-align: middle;\n",
       "    }\n",
       "\n",
       "    .dataframe tbody tr th {\n",
       "        vertical-align: top;\n",
       "    }\n",
       "\n",
       "    .dataframe thead th {\n",
       "        text-align: right;\n",
       "    }\n",
       "</style>\n",
       "<table border=\"1\" class=\"dataframe\">\n",
       "  <thead>\n",
       "    <tr style=\"text-align: right;\">\n",
       "      <th></th>\n",
       "      <th>price_per_review</th>\n",
       "      <th>reviews_density</th>\n",
       "      <th>is_superhost</th>\n",
       "      <th>is_long_term</th>\n",
       "    </tr>\n",
       "  </thead>\n",
       "  <tbody>\n",
       "    <tr>\n",
       "      <th>count</th>\n",
       "      <td>15116.000000</td>\n",
       "      <td>15116.000000</td>\n",
       "      <td>15116</td>\n",
       "      <td>15116</td>\n",
       "    </tr>\n",
       "    <tr>\n",
       "      <th>unique</th>\n",
       "      <td>NaN</td>\n",
       "      <td>NaN</td>\n",
       "      <td>2</td>\n",
       "      <td>2</td>\n",
       "    </tr>\n",
       "    <tr>\n",
       "      <th>top</th>\n",
       "      <td>NaN</td>\n",
       "      <td>NaN</td>\n",
       "      <td>False</td>\n",
       "      <td>False</td>\n",
       "    </tr>\n",
       "    <tr>\n",
       "      <th>freq</th>\n",
       "      <td>NaN</td>\n",
       "      <td>NaN</td>\n",
       "      <td>10719</td>\n",
       "      <td>13303</td>\n",
       "    </tr>\n",
       "    <tr>\n",
       "      <th>mean</th>\n",
       "      <td>1185.754899</td>\n",
       "      <td>0.019187</td>\n",
       "      <td>NaN</td>\n",
       "      <td>NaN</td>\n",
       "    </tr>\n",
       "    <tr>\n",
       "      <th>std</th>\n",
       "      <td>2742.091024</td>\n",
       "      <td>0.125237</td>\n",
       "      <td>NaN</td>\n",
       "      <td>NaN</td>\n",
       "    </tr>\n",
       "    <tr>\n",
       "      <th>min</th>\n",
       "      <td>0.000000</td>\n",
       "      <td>0.000000</td>\n",
       "      <td>NaN</td>\n",
       "      <td>NaN</td>\n",
       "    </tr>\n",
       "    <tr>\n",
       "      <th>25%</th>\n",
       "      <td>102.063776</td>\n",
       "      <td>0.000000</td>\n",
       "      <td>NaN</td>\n",
       "      <td>NaN</td>\n",
       "    </tr>\n",
       "    <tr>\n",
       "      <th>50%</th>\n",
       "      <td>450.000000</td>\n",
       "      <td>0.000429</td>\n",
       "      <td>NaN</td>\n",
       "      <td>NaN</td>\n",
       "    </tr>\n",
       "    <tr>\n",
       "      <th>75%</th>\n",
       "      <td>1299.000000</td>\n",
       "      <td>0.003496</td>\n",
       "      <td>NaN</td>\n",
       "      <td>NaN</td>\n",
       "    </tr>\n",
       "    <tr>\n",
       "      <th>max</th>\n",
       "      <td>75000.000000</td>\n",
       "      <td>3.200000</td>\n",
       "      <td>NaN</td>\n",
       "      <td>NaN</td>\n",
       "    </tr>\n",
       "  </tbody>\n",
       "</table>\n",
       "</div>"
      ],
      "text/plain": [
       "        price_per_review  reviews_density is_superhost is_long_term\n",
       "count       15116.000000     15116.000000        15116        15116\n",
       "unique               NaN              NaN            2            2\n",
       "top                  NaN              NaN        False        False\n",
       "freq                 NaN              NaN        10719        13303\n",
       "mean         1185.754899         0.019187          NaN          NaN\n",
       "std          2742.091024         0.125237          NaN          NaN\n",
       "min             0.000000         0.000000          NaN          NaN\n",
       "25%           102.063776         0.000000          NaN          NaN\n",
       "50%           450.000000         0.000429          NaN          NaN\n",
       "75%          1299.000000         0.003496          NaN          NaN\n",
       "max         75000.000000         3.200000          NaN          NaN"
      ]
     },
     "execution_count": 27,
     "metadata": {},
     "output_type": "execute_result"
    }
   ],
   "source": [
    "# Reload the uploaded CSV\n",
    "file_path = \"Airbnb Listings Bangkok.csv\"\n",
    "df = pd.read_csv(file_path)\n",
    "\n",
    "# Re-do previous cleaning steps to match the state before the reset\n",
    "df = df.dropna(subset=['name', 'host_name'])\n",
    "df['last_review'] = df['last_review'].fillna('No Review')\n",
    "df['reviews_per_month'] = df['reviews_per_month'].fillna(0).astype(float)\n",
    "\n",
    "# Remove outliers based on z-score for selected columns\n",
    "from scipy.stats import zscore\n",
    "\n",
    "columns_to_check = ['price', 'minimum_nights', 'availability_365', 'reviews_per_month']\n",
    "z_scores = df[columns_to_check].apply(zscore)\n",
    "df = df[(z_scores < 3).all(axis=1)]\n",
    "\n",
    "# Create new features\n",
    "df['price_per_review'] = df['price'] / (df['number_of_reviews'] + 1)\n",
    "df['reviews_density'] = df['reviews_per_month'] / (df['availability_365'] + 1)\n",
    "df['is_superhost'] = df['calculated_host_listings_count'] > 10\n",
    "df['is_long_term'] = df['minimum_nights'] >= 30\n",
    "\n",
    "# Show summary of new features\n",
    "df[['price_per_review', 'reviews_density', 'is_superhost', 'is_long_term']].describe(include='all')\n"
   ]
  },
  {
   "cell_type": "markdown",
   "id": "1016efe7",
   "metadata": {},
   "source": [
    "#### Feature Engineering: Creating New Columns\n",
    "\n",
    "To enrich the dataset and support further modeling, we engineered the following new features:\n",
    "\n",
    "1. **`price_per_review`**:  \n",
    "   Measures how much guests pay per review received — calculated as `price / (number_of_reviews + 1)` to avoid division by zero.\n",
    "\n",
    "2. **`reviews_density`**:  \n",
    "   Represents guest engagement, using `reviews_per_month / (availability_365 + 1)` for normalization.\n",
    "\n",
    "3. **`is_superhost`** *(binary)*:  \n",
    "   Flags listings where `calculated_host_listings_count > 10`, assuming hosts with many listings tend to be more professional.\n",
    "\n",
    "4. **`is_long_term`** *(binary)*:  \n",
    "   Identifies listings with `minimum_nights >= 30`, indicating potential for long-term stays.\n",
    "\n",
    "All transformations are applied safely to a copied dataset (`df_cleaned`) to avoid chained assignment warnings and to support clean future-proof processing.\n"
   ]
  },
  {
   "cell_type": "markdown",
   "id": "cbe86069",
   "metadata": {},
   "source": [
    "### Feature Selection: Picking the Most Influential Features"
   ]
  },
  {
   "cell_type": "markdown",
   "id": "540578aa",
   "metadata": {},
   "source": [
    "#### Check correlations (for numeric features only)"
   ]
  },
  {
   "cell_type": "markdown",
   "id": "2721b3fa",
   "metadata": {},
   "source": [
    "Let’s look at correlation with the target variable. let’s assume we're predicting price"
   ]
  },
  {
   "cell_type": "code",
   "execution_count": 33,
   "id": "dc733313",
   "metadata": {},
   "outputs": [
    {
     "name": "stdout",
     "output_type": "stream",
     "text": [
      "price                             1.000000\n",
      "price_per_review                  0.528712\n",
      "number_of_reviews_ltm             0.082141\n",
      "reviews_per_month                 0.080758\n",
      "is_superhost                      0.070229\n",
      "id                                0.062184\n",
      "calculated_host_listings_count    0.060744\n",
      "host_id                           0.024926\n",
      "number_of_reviews                 0.014171\n",
      "reviews_density                  -0.005125\n",
      "availability_365                 -0.024201\n",
      "minimum_nights                   -0.038360\n",
      "longitude                        -0.055910\n",
      "latitude                         -0.087789\n",
      "is_long_term                           NaN\n",
      "Name: price, dtype: float64\n"
     ]
    }
   ],
   "source": [
    "# Correlation matrix (only numeric features)\n",
    "correlation_matrix = df_cleaned.corr(numeric_only=True)\n",
    "\n",
    "# Correlation with price, sorted\n",
    "correlation_with_price = correlation_matrix['price'].sort_values(ascending=False)\n",
    "print(correlation_with_price)"
   ]
  },
  {
   "cell_type": "markdown",
   "id": "a1677ac2",
   "metadata": {},
   "source": [
    "Insight: Correlation with `price`\n",
    "\n",
    "| Feature | Correlation | Explanation |\n",
    "|--------|-------------|-------------|\n",
    "| `price_per_review` | **0.53** | Moderate positive correlation. Strong candidate for modeling. |\n",
    "| `number_of_reviews_ltm` | 0.08 | Weak, but could still add value when combined with other features. |\n",
    "| `reviews_per_month` | 0.08 | Same as above. Individually weak, but may be useful collectively. |\n",
    "| `is_superhost` | 0.07 | Weak, but aligns logically — superhosts may charge more. |\n",
    "| `id`, `host_id` | 0.06 & 0.02 | Irrelevant identifiers. Should be dropped. |\n",
    "| `reviews_density` | -0.005 | No meaningful correlation. Can be ignored. |\n",
    "| `availability_365` | -0.02 | Very weak and slightly negative. Not useful on its own. |\n",
    "| `minimum_nights` | -0.04 | Weak and negative. Not very predictive. |\n",
    "| `longitude`, `latitude` | -0.05 & -0.08 | Weak individually, but can be transformed (e.g., clustering) later. |\n",
    "| `is_long_term` | NaN | Not included because it's a boolean. We'll handle it differently. |"
   ]
  },
  {
   "cell_type": "markdown",
   "id": "06e8f686",
   "metadata": {},
   "source": [
    "Recommended Features for Modeling\n",
    "\n",
    "**To keep:**\n",
    "- `price_per_review` – primary predictor\n",
    "- `number_of_reviews_ltm`\n",
    "- `reviews_per_month`\n",
    "- `is_superhost` – boolean, will be encoded later\n",
    "\n",
    "**Optional (with transformation):**\n",
    "- `longitude` & `latitude` – could be useful after clustering or regional encoding\n",
    "- `calculated_host_listings_count` – might have hidden insights\n",
    "\n",
    "**To drop:**\n",
    "- `id`, `host_id` – identifiers, no predictive power\n",
    "- `reviews_density` – very weak correlation\n",
    "- `minimum_nights` – already covered by `is_long_term`"
   ]
  },
  {
   "cell_type": "code",
   "execution_count": 34,
   "id": "e4b7fd30",
   "metadata": {},
   "outputs": [],
   "source": [
    "df_model = df_cleaned.drop(columns=[\n",
    "    'id',                         # Unique identifier, not useful\n",
    "    'host_id',                    # Same as above\n",
    "    'reviews_density',            # Very weak correlation (≈ 0)\n",
    "    'minimum_nights',             # Already captured in is_long_term\n",
    "])"
   ]
  },
  {
   "cell_type": "markdown",
   "id": "22155723",
   "metadata": {},
   "source": [
    "To prepare the dataset for visualization and deeper analysis, I performed a **feature selection** process to remove columns that were either irrelevant, redundant, or added noise to the model.\n",
    "\n",
    "Specifically, I dropped the following features:\n",
    "\n",
    "- **`id`** and **`host_id`**: These are unique identifiers with no analytical value.\n",
    "- **`reviews_density`**: This variable showed an extremely low correlation with price, making it unhelpful for our analysis.\n",
    "- **`minimum_nights`**: Instead of using raw values, I encoded this information into a new binary feature called **`is_long_term`**, which more clearly captures long-stay patterns.\n",
    "\n",
    "By refining the dataset this way, I ensured that only meaningful, interpretable features remain—making the data **cleaner, leaner, and ready for visualization** in Tableau or Looker Studio."
   ]
  },
  {
   "cell_type": "markdown",
   "id": "f8b155b5",
   "metadata": {},
   "source": [
    "## Export & Ready to Visualization"
   ]
  },
  {
   "cell_type": "code",
   "execution_count": 43,
   "id": "b9a719a3",
   "metadata": {},
   "outputs": [],
   "source": [
    "# Export cleaned and feature-engineered data\n",
    "df_model.to_csv('airbnb_bangkok_cleaned.csv', index=False)"
   ]
  },
  {
   "cell_type": "markdown",
   "id": "876b1d89",
   "metadata": {},
   "source": [
    "## Conclusion\n",
    "\n",
    "This project explored the key factors influencing Airbnb listing performance in Bangkok by leveraging data-driven analysis and visual storytelling. Through careful **data cleaning, feature engineering, and exploratory data analysis**, we uncovered patterns in host behavior, listing characteristics, pricing, and location-based trends.\n",
    "\n",
    "### Key Takeaways:\n",
    "- **Location matters**: Certain neighborhoods such as Watthana and Khlong Toei dominate in listing volume, price range, and engagement.\n",
    "- **Room type impacts success**: Entire homes generally command higher prices, while private rooms maintain stronger presence in high-density areas.\n",
    "- **Superhost status is rare** but doesn’t drastically affect price—suggesting service quality may be under-leveraged by hosts.\n",
    "- **Long-term stay listings** (minimum nights ≥30) are not as common but open potential for niche traveler markets.\n",
    "\n",
    "This refined dataset was exported and used to build a dynamic dashboard in Looker Studio, enabling further stakeholder-driven exploration, business decisions, and strategic opportunities for hosts, analysts, and policymakers."
   ]
  }
 ],
 "metadata": {
  "kernelspec": {
   "display_name": "Python 3",
   "language": "python",
   "name": "python3"
  },
  "language_info": {
   "codemirror_mode": {
    "name": "ipython",
    "version": 3
   },
   "file_extension": ".py",
   "mimetype": "text/x-python",
   "name": "python",
   "nbconvert_exporter": "python",
   "pygments_lexer": "ipython3",
   "version": "3.13.2"
  }
 },
 "nbformat": 4,
 "nbformat_minor": 5
}
